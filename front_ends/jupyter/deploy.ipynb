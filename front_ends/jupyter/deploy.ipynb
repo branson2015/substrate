{
 "cells": [
  {
   "cell_type": "markdown",
   "id": "5142884b-8a06-4ff4-8f81-502cc6a7e6c5",
   "metadata": {},
   "source": [
    "### Set AWS Credentials"
   ]
  },
  {
   "cell_type": "code",
   "execution_count": null,
   "id": "2d8765b1-74f8-428d-8633-9d21d145c840",
   "metadata": {
    "tags": []
   },
   "outputs": [],
   "source": [
    "import os\n",
    "\n",
    "\n",
    "os.environ['AWS_ACCESS_KEY_ID'] = \"\"\n",
    "os.environ['AWS_SECRET_ACCESS_KEY'] = \"\"\n",
    "os.environ['AWS_SESSION_TOKEN'] = \"\""
   ]
  },
  {
   "cell_type": "markdown",
   "id": "9e05e842-f438-4412-ac2d-748e7bd34bc7",
   "metadata": {},
   "source": [
    "### Create the visualization service"
   ]
  },
  {
   "cell_type": "code",
   "execution_count": null,
   "id": "4d19b170-7140-42ad-9fd7-ef04bb6fd1b0",
   "metadata": {},
   "outputs": [],
   "source": [
    "from substrate import Substrate\n",
    "\n",
    "\n",
    "s = Substrate('tapestry')\n",
    "location = s.start()"
   ]
  },
  {
   "cell_type": "markdown",
   "id": "47f9ef06-39b5-4c90-a1d2-314eb7a86715",
   "metadata": {},
   "source": [
    "### Show the visualization"
   ]
  },
  {
   "cell_type": "code",
   "execution_count": null,
   "id": "b5b09977-67d6-4162-96d8-7f95576fc9b8",
   "metadata": {},
   "outputs": [],
   "source": [
    "from IPython.display import IFrame\n",
    "\n",
    "\n",
    "IFrame(location, height=1500, width=1500)"
   ]
  },
  {
   "cell_type": "markdown",
   "id": "ce0a4458-33d8-4b57-aa7a-0cc7272f077d",
   "metadata": {},
   "source": [
    "### Stop the visualization"
   ]
  },
  {
   "cell_type": "code",
   "execution_count": null,
   "id": "4ab30d51-60b9-4ab1-8f8f-98c94d364548",
   "metadata": {},
   "outputs": [],
   "source": [
    "s.stop()"
   ]
  },
  {
   "cell_type": "code",
   "execution_count": null,
   "id": "f13e52c3-29ff-4ced-82d5-670d92a7cc45",
   "metadata": {},
   "outputs": [],
   "source": []
  }
 ],
 "metadata": {
  "kernelspec": {
   "display_name": "Python 3 (ipykernel)",
   "language": "python",
   "name": "python3"
  },
  "language_info": {
   "codemirror_mode": {
    "name": "ipython",
    "version": 3
   },
   "file_extension": ".py",
   "mimetype": "text/x-python",
   "name": "python",
   "nbconvert_exporter": "python",
   "pygments_lexer": "ipython3",
   "version": "3.8.10"
  },
  "toc-autonumbering": true,
  "toc-showcode": false
 },
 "nbformat": 4,
 "nbformat_minor": 5
}
